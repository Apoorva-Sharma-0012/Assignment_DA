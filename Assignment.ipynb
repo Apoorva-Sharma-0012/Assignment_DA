{
  "nbformat": 4,
  "nbformat_minor": 0,
  "metadata": {
    "colab": {
      "provenance": []
    },
    "kernelspec": {
      "name": "python3",
      "display_name": "Python 3"
    },
    "language_info": {
      "name": "python"
    }
  },
  "cells": [
    {
      "cell_type": "code",
      "source": [
        "from google.colab import drive\n",
        "drive.mount('/content/drive')\n"
      ],
      "metadata": {
        "colab": {
          "base_uri": "https://localhost:8080/"
        },
        "id": "2AL6svmgfWzk",
        "outputId": "df942c6e-213a-494d-abcb-a98fd2b5113a"
      },
      "execution_count": 10,
      "outputs": [
        {
          "output_type": "stream",
          "name": "stdout",
          "text": [
            "Drive already mounted at /content/drive; to attempt to forcibly remount, call drive.mount(\"/content/drive\", force_remount=True).\n"
          ]
        }
      ]
    },
    {
      "cell_type": "code",
      "source": [
        "from keras.models import load_model\n",
        "from collections import deque\n",
        "import matplotlib.pyplot as plt\n",
        "import numpy as np\n",
        "import pandas as pd\n",
        "from datetime import datetime\n",
        "import pytz\n",
        "import argparse\n",
        "import pickle\n",
        "import sqlite3"
      ],
      "metadata": {
        "id": "AsdscFlvfZm1"
      },
      "execution_count": 32,
      "outputs": []
    },
    {
      "cell_type": "code",
      "source": [
        "df_orders = pd.read_csv(\"/content/drive/MyDrive/customer_orders.csv\")\n",
        "df_payments = pd.read_csv(\"/content/drive/MyDrive/payments.csv\")"
      ],
      "metadata": {
        "id": "4dpad-kKf5E5"
      },
      "execution_count": 33,
      "outputs": []
    },
    {
      "cell_type": "code",
      "source": [
        "conn = sqlite3.connect(':memory:')\n",
        "df_orders.to_sql('customer_orders', conn, index=False, if_exists='replace')\n",
        "df_payments.to_sql('payments', conn, index=False, if_exists='replace')"
      ],
      "metadata": {
        "colab": {
          "base_uri": "https://localhost:8080/"
        },
        "id": "iIJcKM_Ch_-T",
        "outputId": "4e82c8cc-bd49-41ac-cf37-140c35509a64"
      },
      "execution_count": 34,
      "outputs": [
        {
          "output_type": "execute_result",
          "data": {
            "text/plain": [
              "15000"
            ]
          },
          "metadata": {},
          "execution_count": 34
        }
      ]
    },
    {
      "cell_type": "code",
      "source": [
        "query = \"\"\"\n",
        "SELECT *\n",
        "FROM customer_orders\n",
        "LIMIT 5;\n",
        "\"\"\"  # Replace '...' with a valid SQL query. For example, to select all columns from the 'customer_orders' table, you can use 'SELECT * FROM customer_orders;'\n",
        "\n",
        "result = pd.read_sql_query(query, conn)\n",
        "print(result.head())\n"
      ],
      "metadata": {
        "colab": {
          "base_uri": "https://localhost:8080/"
        },
        "id": "-RNLhHmLkUek",
        "outputId": "220158cb-59e9-4ced-f7d6-f134e0b387c4"
      },
      "execution_count": 36,
      "outputs": [
        {
          "output_type": "stream",
          "name": "stdout",
          "text": [
            "                               order_id  customer_id  order_date  \\\n",
            "0  d27d8139-a252-4402-9fd0-23a85592285e         2824  2023-05-28   \n",
            "1  31d3bfde-52dd-4d35-bca6-ee6bddf1eb60         5012  2022-05-23   \n",
            "2  c381a67d-68e6-4d40-912d-77cdc343036f         2679  2023-11-19   \n",
            "3  e967e883-7683-46de-9d68-5b0309644c68         2424  2021-11-21   \n",
            "4  2533e6a8-1b87-40f4-bf91-ca194cfeb54a         1488  2021-03-21   \n",
            "\n",
            "   order_amount                                   shipping_address  \\\n",
            "0         22.26  32181 Johnson Course Apt. 389, New Jamesside, ...   \n",
            "1        119.37     65423 Garcia Light, West Melanieview, AS 06196   \n",
            "2        341.58  84959 Janet Cape Apt. 413, South Joshuastad, G...   \n",
            "3        299.34             283 Steven Groves, Lake Mark, WI 07832   \n",
            "4         55.91   4139 Lewis Parks Suite 724, East Julie, ND 34939   \n",
            "\n",
            "  order_status  \n",
            "0      pending  \n",
            "1    delivered  \n",
            "2    delivered  \n",
            "3      shipped  \n",
            "4      shipped  \n"
          ]
        }
      ]
    }
  ]
}